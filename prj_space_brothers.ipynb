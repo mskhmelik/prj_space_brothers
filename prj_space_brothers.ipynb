{
 "cells": [
  {
   "attachments": {},
   "cell_type": "markdown",
   "metadata": {},
   "source": [
    "# Финальный проект - Космические братья\n",
    "\n",
    "## Введение\n",
    "\n",
    "**Описание проекта**\n",
    "\n",
    "Мы занимаемся аналитикой для проекта Космические братья. Это новая игра, в которой пользователи могут строить разные здания и сражаться с другими пользователями.\n",
    "\n",
    "Отдел маркетинга попросил нас разобраться в источниках, которые мы используем для привлечения пользователей. В долгосрочном периоде мы хотим оптимизировать расходы на рекламу, поэтому нам необходимо определить какие источники работают хорошо, а какие источники - плохо.\n",
    "\n",
    "Пока что в игре еще не реализована монетизация, но мы планируем зарабатывать на пользователях, показывая рекламу во время стороительства зданий. Для определения эффективных каналов мы можем использовать промежуточные метрики, например: время в игре, количество построенных зданий, факт завершения первого уровня, и пр.\n",
    "\n",
    "**Описание данных**\n",
    "\n",
    "Датасет `game_actions.csv` - в нем представлены данные по игре пользователей на первом уровне. Завершение первого уровня требует от игрока выполнения одного из двух условий: 1) победа над первым врагом (PvP) 2) реализация проекта - разработка орбитальной сборки спутников (PvE).\n",
    "\n",
    "В датасете содержатся данные первых пользователей приложения — когорты пользователей, которые начали пользоваться приложением в период с 4 по 10 мая включительно. Можем предположить, что день, когда пользователь открыл приложение - это день, когда он увидел рекламу.\n",
    "\n",
    "1. `event_datetime` — время события\n",
    "2. `event` — одно из трёх событий\n",
    "3. `building_type` — один из трёх типов здания\n",
    "4. `user_id` — идентификатор пользователя\n",
    "5. `project_type` — тип реализованного проекта\n",
    "\n",
    "Помимо основного датасета есть два датасета с информацией о рекламных активностях. Они также помогут в решении задачи.\n",
    "\n",
    "Датасет `ad_costs.csv` - в нем представлены затраты на привлечения пользователей по дням и источникам. Чтобы привлечь пользователей 4 мая, реклама была оплачена 3 мая и т.д.\n",
    "\n",
    "1. `day` - день, в который был совершен клик по объявлению\n",
    "2. `source` - источник трафика\n",
    "3. `cost` - стоимость кликов\n",
    "\n",
    "Датасет `user_source.csv` содержит колонки:\n",
    "\n",
    "1. `user_id` - идентификатор пользователя\n",
    "2. `source` - источников, с которого пришёл пользователь, установивший приложение\n",
    "\n",
    "**План работы**\n",
    "\n",
    "1. Загрузить и подготовить данные\n",
    "   1. Почистить колонки, задать типы данных\n",
    "   2. Обработать пропуски и дубликаты\n",
    "   3. Найти и исправить ошибки (если есть) \n",
    "2. Провести исследовательский анализ и рассчитать\n",
    "   1. Количество (и доли) пользователей за весь период, тех кто прошел игру, по источникам трафика\n",
    "   2. Количество (и доли на пользователя) событий за весь период, реализованных проектов, построенных зданий\n",
    "   3. Количество (и доли) использованных источников трафика, стоимость клика по источникам\n",
    "   4. Время прохождения уровня\n",
    "3. Рассчитать метрики\n",
    "   1. DAU, WAU и Sticky Factor (SF)\n",
    "   2. LTV (с предположениями), CAC\n",
    "4. Проверить гипотезы\n",
    "   1. Время завершения уровня различается в зависимости от способа прохождения\n",
    "   2. Количество построек зависит от канала привлечения\n",
    "5. Сделать выводы и рекомендации\n"
   ]
  },
  {
   "cell_type": "code",
   "execution_count": 33,
   "metadata": {},
   "outputs": [],
   "source": [
    "import pandas as pd\n",
    "import numpy as np\n",
    "import plotly.express as px\n",
    "from scipy import stats as st\n",
    "from IPython.display import display\n",
    "\n",
    "# Save raw datasets in case we need them\n",
    "try:\n",
    "    raw_actions = pd.read_csv('game_actions.csv')\n",
    "    raw_costs = pd.read_csv('ad_costs.csv')\n",
    "    raw_sources = pd.read_csv('user_source.csv')\n",
    "except:\n",
    "    raw_actions = pd.read_csv('/datasets/game_actions.csv')\n",
    "    raw_costs = pd.read_csv('/datasets/ad_costs.csv')\n",
    "    raw_sources = pd.read_csv('/datasets/user_source.csv')\n",
    "\n",
    "# Constants, which we will need later\n",
    "FIG_WIDTH = 10\n",
    "FIG_HEIGHT = 5\n"
   ]
  },
  {
   "attachments": {},
   "cell_type": "markdown",
   "metadata": {},
   "source": [
    "## Предобработка данных\n",
    "\n",
    "Для начала проверим какие данные нам достались. Нас интересуют:\n",
    "\n",
    "1. Названия колонок.\n",
    "2. Неподходящие под тип данных значения в колонках.\n",
    "3. Артефакты в данных и повторяющиеся строки.\n",
    "4. Пропущенные значения.\n",
    "5. Дополнительные колонки и типы данных.\n",
    "\n",
    "Пойдем по порядку."
   ]
  },
  {
   "cell_type": "code",
   "execution_count": 34,
   "metadata": {},
   "outputs": [
    {
     "name": "stdout",
     "output_type": "stream",
     "text": [
      "--------------------------------------------------\n",
      "<class 'pandas.core.frame.DataFrame'>\n",
      "RangeIndex: 135640 entries, 0 to 135639\n",
      "Data columns (total 5 columns):\n",
      " #   Column          Non-Null Count   Dtype \n",
      "---  ------          --------------   ----- \n",
      " 0   event_datetime  135640 non-null  object\n",
      " 1   event           135640 non-null  object\n",
      " 2   building_type   127957 non-null  object\n",
      " 3   user_id         135640 non-null  object\n",
      " 4   project_type    1866 non-null    object\n",
      "dtypes: object(5)\n",
      "memory usage: 5.2+ MB\n",
      "--------------------------------------------------\n",
      "<class 'pandas.core.frame.DataFrame'>\n",
      "RangeIndex: 28 entries, 0 to 27\n",
      "Data columns (total 3 columns):\n",
      " #   Column  Non-Null Count  Dtype  \n",
      "---  ------  --------------  -----  \n",
      " 0   source  28 non-null     object \n",
      " 1   day     28 non-null     object \n",
      " 2   cost    28 non-null     float64\n",
      "dtypes: float64(1), object(2)\n",
      "memory usage: 800.0+ bytes\n",
      "--------------------------------------------------\n",
      "<class 'pandas.core.frame.DataFrame'>\n",
      "RangeIndex: 13576 entries, 0 to 13575\n",
      "Data columns (total 2 columns):\n",
      " #   Column   Non-Null Count  Dtype \n",
      "---  ------   --------------  ----- \n",
      " 0   user_id  13576 non-null  object\n",
      " 1   source   13576 non-null  object\n",
      "dtypes: object(2)\n",
      "memory usage: 212.2+ KB\n"
     ]
    }
   ],
   "source": [
    "# Check columns\n",
    "for dataset in [raw_actions, raw_costs, raw_sources]:\n",
    "    print('-' * 50)\n",
    "    dataset.info()\n"
   ]
  },
  {
   "attachments": {},
   "cell_type": "markdown",
   "metadata": {},
   "source": [
    "Название колонок уже заданы нормально. У нас есть много пропущенных занчений в датасете `raw_actions`, но это может быть связано с тем, как были собраны данные. Мы на это посмотрим в следующих секциях. Наконец, надо будет проверить типы данных."
   ]
  },
  {
   "cell_type": "code",
   "execution_count": 48,
   "metadata": {},
   "outputs": [
    {
     "name": "stdout",
     "output_type": "stream",
     "text": [
      "--------------------------------------------------\n",
      "building            127957\n",
      "finished_stage_1      5817\n",
      "project               1866\n",
      "Name: event, dtype: int64\n",
      "--------------------------------------------------\n",
      "spaceport          59325\n",
      "assembly_shop      54494\n",
      "research_center    14138\n",
      "Name: building_type, dtype: int64\n",
      "--------------------------------------------------\n",
      "satellite_orbital_assembly    1866\n",
      "Name: project_type, dtype: int64\n"
     ]
    }
   ],
   "source": [
    "for column in ['event', 'building_type', 'project_type']:\n",
    "    print(\n",
    "        '-' * 50, '\\n',\n",
    "        raw_actions[column].value_counts(),\n",
    "        sep=''\n",
    "    )\n"
   ]
  },
  {
   "cell_type": "code",
   "execution_count": 56,
   "metadata": {},
   "outputs": [
    {
     "name": "stdout",
     "output_type": "stream",
     "text": [
      "--------------------------------------------------\n",
      "facebook_ads               7\n",
      "instagram_new_adverts      7\n",
      "yandex_direct              7\n",
      "youtube_channel_reklama    7\n",
      "Name: source, dtype: int64\n",
      "--------------------------------------------------\n",
      "yandex_direct              4817\n",
      "instagram_new_adverts      3347\n",
      "facebook_ads               2726\n",
      "youtube_channel_reklama    2686\n",
      "Name: source, dtype: int64\n"
     ]
    }
   ],
   "source": [
    "print(\n",
    "    '-' * 50, '\\n',\n",
    "    raw_costs.source.value_counts(), '\\n',\n",
    "    '-' * 50, '\\n',\n",
    "    raw_sources.source.value_counts(),\n",
    "    sep=''\n",
    ")\n"
   ]
  },
  {
   "attachments": {},
   "cell_type": "markdown",
   "metadata": {},
   "source": [
    "У нас нету странных значений в записях: каналы в затратах совпадают с каналами в источниках, а события в `row_actions` адекватны.\n",
    "\n",
    "Следующим шагом, проверим дубликаты."
   ]
  },
  {
   "cell_type": "code",
   "execution_count": 67,
   "metadata": {},
   "outputs": [
    {
     "data": {
      "text/html": [
       "<div>\n",
       "<style scoped>\n",
       "    .dataframe tbody tr th:only-of-type {\n",
       "        vertical-align: middle;\n",
       "    }\n",
       "\n",
       "    .dataframe tbody tr th {\n",
       "        vertical-align: top;\n",
       "    }\n",
       "\n",
       "    .dataframe thead th {\n",
       "        text-align: right;\n",
       "    }\n",
       "</style>\n",
       "<table border=\"1\" class=\"dataframe\">\n",
       "  <thead>\n",
       "    <tr style=\"text-align: right;\">\n",
       "      <th></th>\n",
       "      <th>event_datetime</th>\n",
       "      <th>event</th>\n",
       "      <th>building_type</th>\n",
       "      <th>user_id</th>\n",
       "      <th>project_type</th>\n",
       "    </tr>\n",
       "  </thead>\n",
       "  <tbody>\n",
       "    <tr>\n",
       "      <th>74891</th>\n",
       "      <td>2020-05-10 18:41:56</td>\n",
       "      <td>building</td>\n",
       "      <td>research_center</td>\n",
       "      <td>c9af55d2-b0ae-4bb4-b3d5-f32aa9ac03af</td>\n",
       "      <td>NaN</td>\n",
       "    </tr>\n",
       "  </tbody>\n",
       "</table>\n",
       "</div>"
      ],
      "text/plain": [
       "            event_datetime     event    building_type  \\\n",
       "74891  2020-05-10 18:41:56  building  research_center   \n",
       "\n",
       "                                    user_id project_type  \n",
       "74891  c9af55d2-b0ae-4bb4-b3d5-f32aa9ac03af          NaN  "
      ]
     },
     "metadata": {},
     "output_type": "display_data"
    },
    {
     "data": {
      "text/html": [
       "<div>\n",
       "<style scoped>\n",
       "    .dataframe tbody tr th:only-of-type {\n",
       "        vertical-align: middle;\n",
       "    }\n",
       "\n",
       "    .dataframe tbody tr th {\n",
       "        vertical-align: top;\n",
       "    }\n",
       "\n",
       "    .dataframe thead th {\n",
       "        text-align: right;\n",
       "    }\n",
       "</style>\n",
       "<table border=\"1\" class=\"dataframe\">\n",
       "  <thead>\n",
       "    <tr style=\"text-align: right;\">\n",
       "      <th></th>\n",
       "      <th>user_id</th>\n",
       "      <th>source</th>\n",
       "    </tr>\n",
       "  </thead>\n",
       "  <tbody>\n",
       "  </tbody>\n",
       "</table>\n",
       "</div>"
      ],
      "text/plain": [
       "Empty DataFrame\n",
       "Columns: [user_id, source]\n",
       "Index: []"
      ]
     },
     "metadata": {},
     "output_type": "display_data"
    }
   ],
   "source": [
    "for dataset in [raw_actions, raw_sources]:\n",
    "    display(dataset[dataset.duplicated()])"
   ]
  },
  {
   "attachments": {},
   "cell_type": "markdown",
   "metadata": {},
   "source": [
    "У нас есть одинокая строка с полным дубликатом в `raw_actions`. Убьем ее: явно один и тот же пользватель не мог совершить одно и то же действия в одно и то же время.\n",
    "\n",
    "Причешем наши датасеты."
   ]
  },
  {
   "cell_type": "code",
   "execution_count": 71,
   "metadata": {},
   "outputs": [],
   "source": [
    "# No changes to the raw datasets\n",
    "df_costs = raw_costs.copy()\n",
    "df_sources = raw_sources.copy()\n",
    "\n",
    "# Clean raw_actions \n",
    "df_actions = (\n",
    "    raw_actions\n",
    "    .copy()\n",
    "    .drop_duplicates()\n",
    "    .astype({\n",
    "        'event_datetime': 'datetime64[s]'\n",
    "    })\n",
    ")\n"
   ]
  },
  {
   "attachments": {},
   "cell_type": "markdown",
   "metadata": {},
   "source": [
    "## Исследовательский анализ данных"
   ]
  }
 ],
 "metadata": {
  "kernelspec": {
   "display_name": "base",
   "language": "python",
   "name": "python3"
  },
  "language_info": {
   "codemirror_mode": {
    "name": "ipython",
    "version": 3
   },
   "file_extension": ".py",
   "mimetype": "text/x-python",
   "name": "python",
   "nbconvert_exporter": "python",
   "pygments_lexer": "ipython3",
   "version": "3.9.7"
  },
  "orig_nbformat": 4,
  "vscode": {
   "interpreter": {
    "hash": "95633e14b7ea774968f538ab8687a60d358136f4a990a7903a22cc539dc1dcdb"
   }
  }
 },
 "nbformat": 4,
 "nbformat_minor": 2
}
